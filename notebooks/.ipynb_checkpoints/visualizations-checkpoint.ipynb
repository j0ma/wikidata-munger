{
 "cells": [
  {
   "cell_type": "code",
   "execution_count": 1,
   "metadata": {},
   "outputs": [],
   "source": [
    "import pandas as pd"
   ]
  },
  {
   "cell_type": "markdown",
   "metadata": {},
   "source": [
    "# Creating tables"
   ]
  },
  {
   "cell_type": "code",
   "execution_count": 43,
   "metadata": {},
   "outputs": [
    {
     "data": {
      "text/html": [
       "<div>\n",
       "<style scoped>\n",
       "    .dataframe tbody tr th:only-of-type {\n",
       "        vertical-align: middle;\n",
       "    }\n",
       "\n",
       "    .dataframe tbody tr th {\n",
       "        vertical-align: top;\n",
       "    }\n",
       "\n",
       "    .dataframe thead th {\n",
       "        text-align: right;\n",
       "    }\n",
       "</style>\n",
       "<table border=\"1\" class=\"dataframe\">\n",
       "  <thead>\n",
       "    <tr style=\"text-align: right;\">\n",
       "      <th></th>\n",
       "      <th>Language</th>\n",
       "      <th>Entity type</th>\n",
       "      <th>N</th>\n",
       "    </tr>\n",
       "  </thead>\n",
       "  <tbody>\n",
       "    <tr>\n",
       "      <th>0</th>\n",
       "      <td>Afrikaans</td>\n",
       "      <td>LOC</td>\n",
       "      <td>89861</td>\n",
       "    </tr>\n",
       "    <tr>\n",
       "      <th>1</th>\n",
       "      <td>Afrikaans</td>\n",
       "      <td>ORG</td>\n",
       "      <td>56630</td>\n",
       "    </tr>\n",
       "    <tr>\n",
       "      <th>2</th>\n",
       "      <td>Afrikaans</td>\n",
       "      <td>PER</td>\n",
       "      <td>210648</td>\n",
       "    </tr>\n",
       "    <tr>\n",
       "      <th>3</th>\n",
       "      <td>Northern Sotho</td>\n",
       "      <td>LOC</td>\n",
       "      <td>3195</td>\n",
       "    </tr>\n",
       "    <tr>\n",
       "      <th>4</th>\n",
       "      <td>Northern Sotho</td>\n",
       "      <td>ORG</td>\n",
       "      <td>1263</td>\n",
       "    </tr>\n",
       "  </tbody>\n",
       "</table>\n",
       "</div>"
      ],
      "text/plain": [
       "         Language Entity type       N\n",
       "0       Afrikaans         LOC   89861\n",
       "1       Afrikaans         ORG   56630\n",
       "2       Afrikaans         PER  210648\n",
       "3  Northern Sotho         LOC    3195\n",
       "4  Northern Sotho         ORG    1263"
      ]
     },
     "execution_count": 43,
     "metadata": {},
     "output_type": "execute_result"
    }
   ],
   "source": [
    "# OLD\n",
    "data = pd.read_csv('../data/count_per_lang_wfullang.csv').drop('language_code', 1)\n",
    "data.columns = \"Language,Entity type,N\".split(',')\n",
    "data.head()"
   ]
  },
  {
   "cell_type": "code",
   "execution_count": 44,
   "metadata": {},
   "outputs": [
    {
     "data": {
      "text/plain": [
       "<matplotlib.axes._subplots.AxesSubplot at 0x7f90ae1d5110>"
      ]
     },
     "execution_count": 44,
     "metadata": {},
     "output_type": "execute_result"
    },
    {
     "data": {
      "image/png": "[encoded data removed]",
      "text/plain": [
       "<Figure size 576x360 with 1 Axes>"
      ]
     },
     "metadata": {
      "needs_background": "light"
     },
     "output_type": "display_data"
    }
   ],
   "source": [
    "(data[~data.Language.isin([\"Zulu\", \"Afrikaans\"])]\n",
    "     .pivot(index='Language',\n",
    "           columns=\"Entity type\", \n",
    "           values='N')\n",
    "     .plot(kind='barh', figsize=(8,5), stacked=True))"
   ]
  },
  {
   "cell_type": "code",
   "execution_count": 45,
   "metadata": {},
   "outputs": [
    {
     "data": {
      "text/plain": [
       "<matplotlib.axes._subplots.AxesSubplot at 0x7f90ae104b50>"
      ]
     },
     "execution_count": 45,
     "metadata": {},
     "output_type": "execute_result"
    },
    {
     "data": {
      "image/png": "[encoded data removed]",
      "text/plain": [
       "<Figure size 576x360 with 1 Axes>"
      ]
     },
     "metadata": {
      "needs_background": "light"
     },
     "output_type": "display_data"
    }
   ],
   "source": [
    "(data.pivot(index='Language',\n",
    "           columns=\"Entity type\", \n",
    "           values='N')\n",
    "     .plot(kind='bar', figsize=(8,5), stacked=True))"
   ]
  },
  {
   "cell_type": "markdown",
   "metadata": {},
   "source": [
    "#### New"
   ]
  },
  {
   "cell_type": "code",
   "execution_count": 70,
   "metadata": {},
   "outputs": [],
   "source": [
    "import orjson"
   ]
  },
  {
   "cell_type": "code",
   "execution_count": 98,
   "metadata": {},
   "outputs": [],
   "source": [
    "with open(\"../data/all-african-languages.json\", 'r') as f:\n",
    "    lang_to_abbrev = {v: k for k,v in orjson.loads(f.read()).items()}"
   ]
  },
  {
   "cell_type": "code",
   "execution_count": 103,
   "metadata": {},
   "outputs": [],
   "source": [
    "dump = pd.concat([pd.read_csv(f\"/data-drive/datasets/african-languages-dump-020521/{conll_type}.csv\") for conll_type in [\"PER\", \"LOC\", \"ORG\"]])"
   ]
  },
  {
   "cell_type": "code",
   "execution_count": 104,
   "metadata": {},
   "outputs": [],
   "source": [
    "dump['full_language'] = dump.language.apply(lambda l: lang_to_abbrev[l]) "
   ]
  },
  {
   "cell_type": "markdown",
   "metadata": {},
   "source": [
    "### Lang -> abbreviation table"
   ]
  },
  {
   "cell_type": "code",
   "execution_count": 119,
   "metadata": {},
   "outputs": [],
   "source": [
    "lang_to_abbrev_table = pd.DataFrame.from_records(list(lang_to_abbrev.items()), columns=\"Language code,Language\".split(\",\"))[[\"Language\", \"Language code\"]]"
   ]
  },
  {
   "cell_type": "code",
   "execution_count": 121,
   "metadata": {},
   "outputs": [
    {
     "name": "stdout",
     "output_type": "stream",
     "text": [
      "\\begin{tabular}{ll}\n",
      "\\toprule\n",
      "            Language & Language code \\\\\n",
      "\\midrule\n",
      "                Afar &            aa \\\\\n",
      "           Afrikaans &            af \\\\\n",
      "                Akan &            ak \\\\\n",
      "             Amharic &            am \\\\\n",
      "               Chewa &            ny \\\\\n",
      "               Hausa &            ha \\\\\n",
      "                Igbo &            ig \\\\\n",
      "         Kinyarwanda &            rw \\\\\n",
      "             Kirundi &            rn \\\\\n",
      "               Kongo &            kg \\\\\n",
      "             Lingala &            ln \\\\\n",
      "             Luganda &            lg \\\\\n",
      "            Malagasy &            mg \\\\\n",
      "      Northern Sotho &           nso \\\\\n",
      "               Oromo &            om \\\\\n",
      "               Shona &            sn \\\\\n",
      "              Somali &            so \\\\\n",
      "             Swahili &            sw \\\\\n",
      "            Tigrinya &            ti \\\\\n",
      "              Tsonga &            ts \\\\\n",
      "              Tswana &            tn \\\\\n",
      "               Venda &            ve \\\\\n",
      "               Wolof &            wo \\\\\n",
      "               Xhosa &            xh \\\\\n",
      "              Yoruba &            yo \\\\\n",
      "                Zulu &            zu \\\\\n",
      " Cape Verdean Creole &           kea \\\\\n",
      "              Dangme &           ada \\\\\n",
      "                 Fon &           fon \\\\\n",
      "              Fulani &           ful \\\\\n",
      "                  Ga &           gaa \\\\\n",
      "              Gikuyu &           kik \\\\\n",
      "            Khoekhoe &           naq \\\\\n",
      "            Kimbundu &           kmb \\\\\n",
      "              Kituba &           mkw \\\\\n",
      "                 Luo &           luo \\\\\n",
      "    Mauritian Creole &           mfe \\\\\n",
      "               Mossi &           mos \\\\\n",
      "              Nambya &           nmq \\\\\n",
      "                Ndau &           ndc \\\\\n",
      "                Noon &           snf \\\\\n",
      "    Northern Ndebele &           nde \\\\\n",
      "             Sesotho &           sot \\\\\n",
      "  Seychellois Creole &           crs \\\\\n",
      "    Southern Ndebele &           nbl \\\\\n",
      "               Swati &            ss \\\\\n",
      "            Tshiluba &           lua \\\\\n",
      "                 Twi &           twi \\\\\n",
      "             Umbundu &           umb \\\\\n",
      "\\bottomrule\n",
      "\\end{tabular}\n",
      "\n"
     ]
    }
   ],
   "source": [
    "# to latex\n",
    "print(lang_to_abbrev_table.to_latex(index=False))"
   ]
  },
  {
   "cell_type": "markdown",
   "metadata": {},
   "source": [
    "### Types per language table"
   ]
  },
  {
   "cell_type": "code",
   "execution_count": 105,
   "metadata": {},
   "outputs": [],
   "source": [
    "dump_per_lang = dump[['id', 'name','alias', 'language', 'full_language', 'type']].copy()\n",
    "dump_per_lang.columns = ['ID', 'Name', \"Alias\", \"Language code\", \"Language\", \"Entity type\"]"
   ]
  },
  {
   "cell_type": "code",
   "execution_count": 89,
   "metadata": {},
   "outputs": [],
   "source": [
    "types_per_language = dump.groupby([\"Language\", \"Entity type\"]).ID.count().unstack().copy()"
   ]
  },
  {
   "cell_type": "code",
   "execution_count": 90,
   "metadata": {},
   "outputs": [],
   "source": [
    "types_per_language['Total'] = types_per_language.sum(axis=1)"
   ]
  },
  {
   "cell_type": "code",
   "execution_count": 91,
   "metadata": {},
   "outputs": [
    {
     "data": {
      "text/html": [
       "<div>\n",
       "<style scoped>\n",
       "    .dataframe tbody tr th:only-of-type {\n",
       "        vertical-align: middle;\n",
       "    }\n",
       "\n",
       "    .dataframe tbody tr th {\n",
       "        vertical-align: top;\n",
       "    }\n",
       "\n",
       "    .dataframe thead th {\n",
       "        text-align: right;\n",
       "    }\n",
       "</style>\n",
       "<table border=\"1\" class=\"dataframe\">\n",
       "  <thead>\n",
       "    <tr style=\"text-align: right;\">\n",
       "      <th>Entity type</th>\n",
       "      <th>LOC</th>\n",
       "      <th>ORG</th>\n",
       "      <th>PER</th>\n",
       "      <th>Total</th>\n",
       "    </tr>\n",
       "    <tr>\n",
       "      <th>Language</th>\n",
       "      <th></th>\n",
       "      <th></th>\n",
       "      <th></th>\n",
       "      <th></th>\n",
       "    </tr>\n",
       "  </thead>\n",
       "  <tbody>\n",
       "    <tr>\n",
       "      <th>Afar</th>\n",
       "      <td>424</td>\n",
       "      <td>964</td>\n",
       "      <td>25922</td>\n",
       "      <td>27310</td>\n",
       "    </tr>\n",
       "    <tr>\n",
       "      <th>Afrikaans</th>\n",
       "      <td>89861</td>\n",
       "      <td>56630</td>\n",
       "      <td>210648</td>\n",
       "      <td>357139</td>\n",
       "    </tr>\n",
       "    <tr>\n",
       "      <th>Akan</th>\n",
       "      <td>1389</td>\n",
       "      <td>1430</td>\n",
       "      <td>26551</td>\n",
       "      <td>29370</td>\n",
       "    </tr>\n",
       "    <tr>\n",
       "      <th>Amharic</th>\n",
       "      <td>1958</td>\n",
       "      <td>1173</td>\n",
       "      <td>1933</td>\n",
       "      <td>5064</td>\n",
       "    </tr>\n",
       "    <tr>\n",
       "      <th>Cape Verdean Creole</th>\n",
       "      <td>62</td>\n",
       "      <td>120</td>\n",
       "      <td>355</td>\n",
       "      <td>537</td>\n",
       "    </tr>\n",
       "    <tr>\n",
       "      <th>Chewa</th>\n",
       "      <td>1924</td>\n",
       "      <td>937</td>\n",
       "      <td>24818</td>\n",
       "      <td>27679</td>\n",
       "    </tr>\n",
       "    <tr>\n",
       "      <th>Hausa</th>\n",
       "      <td>3403</td>\n",
       "      <td>1549</td>\n",
       "      <td>31588</td>\n",
       "      <td>36540</td>\n",
       "    </tr>\n",
       "    <tr>\n",
       "      <th>Igbo</th>\n",
       "      <td>880</td>\n",
       "      <td>1355</td>\n",
       "      <td>27131</td>\n",
       "      <td>29366</td>\n",
       "    </tr>\n",
       "    <tr>\n",
       "      <th>Kinyarwanda</th>\n",
       "      <td>2293</td>\n",
       "      <td>1311</td>\n",
       "      <td>24992</td>\n",
       "      <td>28596</td>\n",
       "    </tr>\n",
       "    <tr>\n",
       "      <th>Kirundi</th>\n",
       "      <td>741</td>\n",
       "      <td>974</td>\n",
       "      <td>24825</td>\n",
       "      <td>26540</td>\n",
       "    </tr>\n",
       "    <tr>\n",
       "      <th>Kongo</th>\n",
       "      <td>78405</td>\n",
       "      <td>48969</td>\n",
       "      <td>105630</td>\n",
       "      <td>233004</td>\n",
       "    </tr>\n",
       "    <tr>\n",
       "      <th>Lingala</th>\n",
       "      <td>982</td>\n",
       "      <td>1405</td>\n",
       "      <td>25300</td>\n",
       "      <td>27687</td>\n",
       "    </tr>\n",
       "    <tr>\n",
       "      <th>Luganda</th>\n",
       "      <td>777</td>\n",
       "      <td>991</td>\n",
       "      <td>24208</td>\n",
       "      <td>25976</td>\n",
       "    </tr>\n",
       "    <tr>\n",
       "      <th>Malagasy</th>\n",
       "      <td>100219</td>\n",
       "      <td>64549</td>\n",
       "      <td>131960</td>\n",
       "      <td>296728</td>\n",
       "    </tr>\n",
       "    <tr>\n",
       "      <th>Northern Sotho</th>\n",
       "      <td>3195</td>\n",
       "      <td>1263</td>\n",
       "      <td>24796</td>\n",
       "      <td>29254</td>\n",
       "    </tr>\n",
       "    <tr>\n",
       "      <th>Oromo</th>\n",
       "      <td>728</td>\n",
       "      <td>1062</td>\n",
       "      <td>24685</td>\n",
       "      <td>26475</td>\n",
       "    </tr>\n",
       "    <tr>\n",
       "      <th>Shona</th>\n",
       "      <td>1040</td>\n",
       "      <td>1244</td>\n",
       "      <td>25830</td>\n",
       "      <td>28114</td>\n",
       "    </tr>\n",
       "    <tr>\n",
       "      <th>Somali</th>\n",
       "      <td>1620</td>\n",
       "      <td>1790</td>\n",
       "      <td>25609</td>\n",
       "      <td>29019</td>\n",
       "    </tr>\n",
       "    <tr>\n",
       "      <th>Swahili</th>\n",
       "      <td>94448</td>\n",
       "      <td>53039</td>\n",
       "      <td>129341</td>\n",
       "      <td>276828</td>\n",
       "    </tr>\n",
       "    <tr>\n",
       "      <th>Swati</th>\n",
       "      <td>495</td>\n",
       "      <td>1013</td>\n",
       "      <td>22912</td>\n",
       "      <td>24420</td>\n",
       "    </tr>\n",
       "    <tr>\n",
       "      <th>Tigrinya</th>\n",
       "      <td>117</td>\n",
       "      <td>125</td>\n",
       "      <td>217</td>\n",
       "      <td>459</td>\n",
       "    </tr>\n",
       "    <tr>\n",
       "      <th>Tsonga</th>\n",
       "      <td>635</td>\n",
       "      <td>1092</td>\n",
       "      <td>24814</td>\n",
       "      <td>26541</td>\n",
       "    </tr>\n",
       "    <tr>\n",
       "      <th>Tswana</th>\n",
       "      <td>835</td>\n",
       "      <td>1015</td>\n",
       "      <td>24839</td>\n",
       "      <td>26689</td>\n",
       "    </tr>\n",
       "    <tr>\n",
       "      <th>Venda</th>\n",
       "      <td>665</td>\n",
       "      <td>961</td>\n",
       "      <td>24970</td>\n",
       "      <td>26596</td>\n",
       "    </tr>\n",
       "    <tr>\n",
       "      <th>Wolof</th>\n",
       "      <td>76985</td>\n",
       "      <td>48853</td>\n",
       "      <td>105811</td>\n",
       "      <td>231649</td>\n",
       "    </tr>\n",
       "    <tr>\n",
       "      <th>Xhosa</th>\n",
       "      <td>727</td>\n",
       "      <td>1090</td>\n",
       "      <td>25306</td>\n",
       "      <td>27123</td>\n",
       "    </tr>\n",
       "    <tr>\n",
       "      <th>Yoruba</th>\n",
       "      <td>2557</td>\n",
       "      <td>2019</td>\n",
       "      <td>34969</td>\n",
       "      <td>39545</td>\n",
       "    </tr>\n",
       "    <tr>\n",
       "      <th>Zulu</th>\n",
       "      <td>81216</td>\n",
       "      <td>49261</td>\n",
       "      <td>107106</td>\n",
       "      <td>237583</td>\n",
       "    </tr>\n",
       "  </tbody>\n",
       "</table>\n",
       "</div>"
      ],
      "text/plain": [
       "Entity type             LOC    ORG     PER   Total\n",
       "Language                                          \n",
       "Afar                    424    964   25922   27310\n",
       "Afrikaans             89861  56630  210648  357139\n",
       "Akan                   1389   1430   26551   29370\n",
       "Amharic                1958   1173    1933    5064\n",
       "Cape Verdean Creole      62    120     355     537\n",
       "Chewa                  1924    937   24818   27679\n",
       "Hausa                  3403   1549   31588   36540\n",
       "Igbo                    880   1355   27131   29366\n",
       "Kinyarwanda            2293   1311   24992   28596\n",
       "Kirundi                 741    974   24825   26540\n",
       "Kongo                 78405  48969  105630  233004\n",
       "Lingala                 982   1405   25300   27687\n",
       "Luganda                 777    991   24208   25976\n",
       "Malagasy             100219  64549  131960  296728\n",
       "Northern Sotho         3195   1263   24796   29254\n",
       "Oromo                   728   1062   24685   26475\n",
       "Shona                  1040   1244   25830   28114\n",
       "Somali                 1620   1790   25609   29019\n",
       "Swahili               94448  53039  129341  276828\n",
       "Swati                   495   1013   22912   24420\n",
       "Tigrinya                117    125     217     459\n",
       "Tsonga                  635   1092   24814   26541\n",
       "Tswana                  835   1015   24839   26689\n",
       "Venda                   665    961   24970   26596\n",
       "Wolof                 76985  48853  105811  231649\n",
       "Xhosa                   727   1090   25306   27123\n",
       "Yoruba                 2557   2019   34969   39545\n",
       "Zulu                  81216  49261  107106  237583"
      ]
     },
     "execution_count": 91,
     "metadata": {},
     "output_type": "execute_result"
    }
   ],
   "source": [
    "types_per_language"
   ]
  },
  {
   "cell_type": "code",
   "execution_count": 113,
   "metadata": {},
   "outputs": [
    {
     "name": "stdout",
     "output_type": "stream",
     "text": [
      "\\begin{tabular}{lrrrr}\n",
      "\\toprule\n",
      "Entity type &     LOC &    ORG &     PER &   Total \\\\\n",
      "Language            &         &        &         &         \\\\\n",
      "\\midrule\n",
      "Afar                &     424 &    964 &   25922 &   27310 \\\\\n",
      "Afrikaans           &   89861 &  56630 &  210648 &  357139 \\\\\n",
      "Akan                &    1389 &   1430 &   26551 &   29370 \\\\\n",
      "Amharic             &    1958 &   1173 &    1933 &    5064 \\\\\n",
      "Cape Verdean Creole &      62 &    120 &     355 &     537 \\\\\n",
      "Chewa               &    1924 &    937 &   24818 &   27679 \\\\\n",
      "Hausa               &    3403 &   1549 &   31588 &   36540 \\\\\n",
      "Igbo                &     880 &   1355 &   27131 &   29366 \\\\\n",
      "Kinyarwanda         &    2293 &   1311 &   24992 &   28596 \\\\\n",
      "Kirundi             &     741 &    974 &   24825 &   26540 \\\\\n",
      "Kongo               &   78405 &  48969 &  105630 &  233004 \\\\\n",
      "Lingala             &     982 &   1405 &   25300 &   27687 \\\\\n",
      "Luganda             &     777 &    991 &   24208 &   25976 \\\\\n",
      "Malagasy            &  100219 &  64549 &  131960 &  296728 \\\\\n",
      "Northern Sotho      &    3195 &   1263 &   24796 &   29254 \\\\\n",
      "Oromo               &     728 &   1062 &   24685 &   26475 \\\\\n",
      "Shona               &    1040 &   1244 &   25830 &   28114 \\\\\n",
      "Somali              &    1620 &   1790 &   25609 &   29019 \\\\\n",
      "Swahili             &   94448 &  53039 &  129341 &  276828 \\\\\n",
      "Swati               &     495 &   1013 &   22912 &   24420 \\\\\n",
      "Tigrinya            &     117 &    125 &     217 &     459 \\\\\n",
      "Tsonga              &     635 &   1092 &   24814 &   26541 \\\\\n",
      "Tswana              &     835 &   1015 &   24839 &   26689 \\\\\n",
      "Venda               &     665 &    961 &   24970 &   26596 \\\\\n",
      "Wolof               &   76985 &  48853 &  105811 &  231649 \\\\\n",
      "Xhosa               &     727 &   1090 &   25306 &   27123 \\\\\n",
      "Yoruba              &    2557 &   2019 &   34969 &   39545 \\\\\n",
      "Zulu                &   81216 &  49261 &  107106 &  237583 \\\\\n",
      "\\bottomrule\n",
      "\\end{tabular}\n",
      "\n"
     ]
    }
   ],
   "source": [
    "# as latex\n",
    "print(types_per_language.to_latex(index=True, bold_rows=False))"
   ]
  },
  {
   "cell_type": "markdown",
   "metadata": {},
   "source": [
    "### Types per language bar chart"
   ]
  },
  {
   "cell_type": "code",
   "execution_count": 130,
   "metadata": {},
   "outputs": [],
   "source": [
    "import seaborn as sns"
   ]
  },
  {
   "cell_type": "code",
   "execution_count": 136,
   "metadata": {},
   "outputs": [
    {
     "data": {
      "text/plain": [
       "<matplotlib.axes._subplots.AxesSubplot at 0x7f908678bc90>"
      ]
     },
     "execution_count": 136,
     "metadata": {},
     "output_type": "execute_result"
    },
    {
     "data": {
      "image/png": "[encoded data removed]",
      "text/plain": [
       "<Figure size 864x432 with 1 Axes>"
      ]
     },
     "metadata": {
      "needs_background": "light"
     },
     "output_type": "display_data"
    }
   ],
   "source": [
    "types_per_language[['LOC','PER','ORG']].plot(title=\"Entity counts per language\", kind='bar', stacked=True, figsize=(12, 6))"
   ]
  },
  {
   "cell_type": "markdown",
   "metadata": {},
   "source": [
    "### Purity"
   ]
  },
  {
   "cell_type": "code",
   "execution_count": 94,
   "metadata": {},
   "outputs": [],
   "source": [
    "%%bash\n",
    "ln -s ../wikidata_helpers.py wikidata_helpers.py"
   ]
  },
  {
   "cell_type": "code",
   "execution_count": 139,
   "metadata": {},
   "outputs": [],
   "source": [
    "import wikidata_helpers as wh"
   ]
  },
  {
   "cell_type": "code",
   "execution_count": 140,
   "metadata": {},
   "outputs": [],
   "source": [
    "dump_english_similarity = wh.compute_english_similarity_df(dump.copy()) "
   ]
  },
  {
   "cell_type": "code",
   "execution_count": 141,
   "metadata": {},
   "outputs": [],
   "source": [
    "dump_english_similarity['full_language'] = dump_purity_df.language.apply(lambda l: lang_to_abbrev[l])"
   ]
  }
 ],
 "metadata": {
  "kernelspec": {
   "display_name": "Python 3",
   "language": "python",
   "name": "python3"
  },
  "language_info": {
   "codemirror_mode": {
    "name": "ipython",
    "version": 3
   },
   "file_extension": ".py",
   "mimetype": "text/x-python",
   "name": "python",
   "nbconvert_exporter": "python",
   "pygments_lexer": "ipython3",
   "version": "3.7.7"
  }
 },
 "nbformat": 4,
 "nbformat_minor": 4
}
