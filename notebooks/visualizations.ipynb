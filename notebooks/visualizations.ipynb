{
 "cells": [
  {
   "cell_type": "code",
   "execution_count": 1,
   "metadata": {},
   "outputs": [],
   "source": [
    "import pandas as pd"
   ]
  },
  {
   "cell_type": "markdown",
   "metadata": {},
   "source": [
    "# Creating tables"
   ]
  },
  {
   "cell_type": "code",
   "execution_count": 2,
   "metadata": {},
   "outputs": [
    {
     "data": {
      "text/html": [
       "<div>\n",
       "<style scoped>\n",
       "    .dataframe tbody tr th:only-of-type {\n",
       "        vertical-align: middle;\n",
       "    }\n",
       "\n",
       "    .dataframe tbody tr th {\n",
       "        vertical-align: top;\n",
       "    }\n",
       "\n",
       "    .dataframe thead th {\n",
       "        text-align: right;\n",
       "    }\n",
       "</style>\n",
       "<table border=\"1\" class=\"dataframe\">\n",
       "  <thead>\n",
       "    <tr style=\"text-align: right;\">\n",
       "      <th></th>\n",
       "      <th>Language</th>\n",
       "      <th>Entity type</th>\n",
       "      <th>N</th>\n",
       "    </tr>\n",
       "  </thead>\n",
       "  <tbody>\n",
       "    <tr>\n",
       "      <th>0</th>\n",
       "      <td>Afrikaans</td>\n",
       "      <td>LOC</td>\n",
       "      <td>89861</td>\n",
       "    </tr>\n",
       "    <tr>\n",
       "      <th>1</th>\n",
       "      <td>Afrikaans</td>\n",
       "      <td>ORG</td>\n",
       "      <td>56630</td>\n",
       "    </tr>\n",
       "    <tr>\n",
       "      <th>2</th>\n",
       "      <td>Afrikaans</td>\n",
       "      <td>PER</td>\n",
       "      <td>210648</td>\n",
       "    </tr>\n",
       "    <tr>\n",
       "      <th>3</th>\n",
       "      <td>Northern Sotho</td>\n",
       "      <td>LOC</td>\n",
       "      <td>3195</td>\n",
       "    </tr>\n",
       "    <tr>\n",
       "      <th>4</th>\n",
       "      <td>Northern Sotho</td>\n",
       "      <td>ORG</td>\n",
       "      <td>1263</td>\n",
       "    </tr>\n",
       "  </tbody>\n",
       "</table>\n",
       "</div>"
      ],
      "text/plain": [
       "         Language Entity type       N\n",
       "0       Afrikaans         LOC   89861\n",
       "1       Afrikaans         ORG   56630\n",
       "2       Afrikaans         PER  210648\n",
       "3  Northern Sotho         LOC    3195\n",
       "4  Northern Sotho         ORG    1263"
      ]
     },
     "execution_count": 2,
     "metadata": {},
     "output_type": "execute_result"
    }
   ],
   "source": [
    "# OLD\n",
    "data = pd.read_csv('../data/count_per_lang_wfullang.csv').drop('language_code', 1)\n",
    "data.columns = \"Language,Entity type,N\".split(',')\n",
    "data.head()"
   ]
  },
  {
   "cell_type": "code",
   "execution_count": 3,
   "metadata": {},
   "outputs": [
    {
     "data": {
      "text/plain": [
       "<matplotlib.axes._subplots.AxesSubplot at 0x7f171a50d090>"
      ]
     },
     "execution_count": 3,
     "metadata": {},
     "output_type": "execute_result"
    },
    {
     "data": {
      "image/png": "[encoded data removed]",
      "text/plain": [
       "<Figure size 576x360 with 1 Axes>"
      ]
     },
     "metadata": {
      "needs_background": "light"
     },
     "output_type": "display_data"
    }
   ],
   "source": [
    "(data[~data.Language.isin([\"Zulu\", \"Afrikaans\"])]\n",
    "     .pivot(index='Language',\n",
    "           columns=\"Entity type\", \n",
    "           values='N')\n",
    "     .plot(kind='barh', figsize=(8,5), stacked=True))"
   ]
  },
  {
   "cell_type": "code",
   "execution_count": 4,
   "metadata": {},
   "outputs": [
    {
     "data": {
      "text/plain": [
       "<matplotlib.axes._subplots.AxesSubplot at 0x7f171984a150>"
      ]
     },
     "execution_count": 4,
     "metadata": {},
     "output_type": "execute_result"
    },
    {
     "data": {
      "image/png": "[encoded data removed]",
      "text/plain": [
       "<Figure size 576x360 with 1 Axes>"
      ]
     },
     "metadata": {
      "needs_background": "light"
     },
     "output_type": "display_data"
    }
   ],
   "source": [
    "(data.pivot(index='Language',\n",
    "           columns=\"Entity type\", \n",
    "           values='N')\n",
    "     .plot(kind='bar', figsize=(8,5), stacked=True))"
   ]
  },
  {
   "cell_type": "markdown",
   "metadata": {},
   "source": [
    "#### New"
   ]
  },
  {
   "cell_type": "code",
   "execution_count": 5,
   "metadata": {},
   "outputs": [],
   "source": [
    "import orjson"
   ]
  },
  {
   "cell_type": "code",
   "execution_count": 6,
   "metadata": {},
   "outputs": [],
   "source": [
    "with open(\"../data/all-african-languages.json\", 'r') as f:\n",
    "    lang_to_abbrev = orjson.loads(f.read())\n",
    "    abbrev_to_lang = {v: k for k,v in lang_to_abbrev.items()}"
   ]
  },
  {
   "cell_type": "code",
   "execution_count": 7,
   "metadata": {},
   "outputs": [],
   "source": [
    "dump = pd.concat([pd.read_csv(f\"/data-drive/datasets/african-languages-dump-020521/{conll_type}.csv\") for conll_type in [\"PER\", \"LOC\", \"ORG\"]])"
   ]
  },
  {
   "cell_type": "code",
   "execution_count": 8,
   "metadata": {},
   "outputs": [],
   "source": [
    "dump['full_language'] = dump.language.apply(lambda l: abbrev_to_lang[l]) "
   ]
  },
  {
   "cell_type": "markdown",
   "metadata": {},
   "source": [
    "### Lang -> abbreviation table"
   ]
  },
  {
   "cell_type": "code",
   "execution_count": 9,
   "metadata": {},
   "outputs": [],
   "source": [
    "abbrev_to_lang_table = pd.DataFrame.from_records(list(abbrev_to_lang.items()), columns=\"Language code,Language\".split(\",\"))[[\"Language\", \"Language code\"]]"
   ]
  },
  {
   "cell_type": "code",
   "execution_count": 10,
   "metadata": {},
   "outputs": [
    {
     "name": "stdout",
     "output_type": "stream",
     "text": [
      "\\begin{tabular}{ll}\n",
      "\\toprule\n",
      "            Language & Language code \\\\\n",
      "\\midrule\n",
      "                Afar &            aa \\\\\n",
      "           Afrikaans &            af \\\\\n",
      "                Akan &            ak \\\\\n",
      "             Amharic &            am \\\\\n",
      "               Chewa &            ny \\\\\n",
      "               Hausa &            ha \\\\\n",
      "                Igbo &            ig \\\\\n",
      "         Kinyarwanda &            rw \\\\\n",
      "             Kirundi &            rn \\\\\n",
      "               Kongo &            kg \\\\\n",
      "             Lingala &            ln \\\\\n",
      "             Luganda &            lg \\\\\n",
      "            Malagasy &            mg \\\\\n",
      "      Northern Sotho &           nso \\\\\n",
      "               Oromo &            om \\\\\n",
      "               Shona &            sn \\\\\n",
      "              Somali &            so \\\\\n",
      "             Swahili &            sw \\\\\n",
      "            Tigrinya &            ti \\\\\n",
      "              Tsonga &            ts \\\\\n",
      "              Tswana &            tn \\\\\n",
      "               Venda &            ve \\\\\n",
      "               Wolof &            wo \\\\\n",
      "               Xhosa &            xh \\\\\n",
      "              Yoruba &            yo \\\\\n",
      "                Zulu &            zu \\\\\n",
      " Cape Verdean Creole &           kea \\\\\n",
      "              Dangme &           ada \\\\\n",
      "                 Fon &           fon \\\\\n",
      "              Fulani &           ful \\\\\n",
      "                  Ga &           gaa \\\\\n",
      "              Gikuyu &           kik \\\\\n",
      "            Khoekhoe &           naq \\\\\n",
      "            Kimbundu &           kmb \\\\\n",
      "              Kituba &           mkw \\\\\n",
      "                 Luo &           luo \\\\\n",
      "    Mauritian Creole &           mfe \\\\\n",
      "               Mossi &           mos \\\\\n",
      "              Nambya &           nmq \\\\\n",
      "                Ndau &           ndc \\\\\n",
      "                Noon &           snf \\\\\n",
      "    Northern Ndebele &           nde \\\\\n",
      "             Sesotho &           sot \\\\\n",
      "  Seychellois Creole &           crs \\\\\n",
      "    Southern Ndebele &           nbl \\\\\n",
      "               Swati &            ss \\\\\n",
      "            Tshiluba &           lua \\\\\n",
      "                 Twi &           twi \\\\\n",
      "             Umbundu &           umb \\\\\n",
      "\\bottomrule\n",
      "\\end{tabular}\n",
      "\n"
     ]
    }
   ],
   "source": [
    "# to latex\n",
    "print(abbrev_to_lang_table.to_latex(index=False))"
   ]
  },
  {
   "cell_type": "markdown",
   "metadata": {},
   "source": [
    "### Types per language table"
   ]
  },
  {
   "cell_type": "code",
   "execution_count": 11,
   "metadata": {},
   "outputs": [],
   "source": [
    "dump_per_lang = dump[['id', 'name','alias', 'language', 'full_language', 'type']].copy()\n",
    "dump_per_lang.columns = ['ID', 'Name', \"Alias\", \"Language code\", \"Language\", \"Entity type\"]"
   ]
  },
  {
   "cell_type": "code",
   "execution_count": 12,
   "metadata": {},
   "outputs": [],
   "source": [
    "types_per_language = dump_per_lang.groupby([\"Language\", \"Entity type\"]).ID.count().unstack().copy()"
   ]
  },
  {
   "cell_type": "code",
   "execution_count": 13,
   "metadata": {},
   "outputs": [],
   "source": [
    "types_per_language['Total'] = types_per_language.sum(axis=1)"
   ]
  },
  {
   "cell_type": "code",
   "execution_count": 14,
   "metadata": {},
   "outputs": [
    {
     "data": {
      "text/html": [
       "<div>\n",
       "<style scoped>\n",
       "    .dataframe tbody tr th:only-of-type {\n",
       "        vertical-align: middle;\n",
       "    }\n",
       "\n",
       "    .dataframe tbody tr th {\n",
       "        vertical-align: top;\n",
       "    }\n",
       "\n",
       "    .dataframe thead th {\n",
       "        text-align: right;\n",
       "    }\n",
       "</style>\n",
       "<table border=\"1\" class=\"dataframe\">\n",
       "  <thead>\n",
       "    <tr style=\"text-align: right;\">\n",
       "      <th>Entity type</th>\n",
       "      <th>LOC</th>\n",
       "      <th>ORG</th>\n",
       "      <th>PER</th>\n",
       "      <th>Total</th>\n",
       "    </tr>\n",
       "    <tr>\n",
       "      <th>Language</th>\n",
       "      <th></th>\n",
       "      <th></th>\n",
       "      <th></th>\n",
       "      <th></th>\n",
       "    </tr>\n",
       "  </thead>\n",
       "  <tbody>\n",
       "    <tr>\n",
       "      <th>Afar</th>\n",
       "      <td>424</td>\n",
       "      <td>964</td>\n",
       "      <td>25922</td>\n",
       "      <td>27310</td>\n",
       "    </tr>\n",
       "    <tr>\n",
       "      <th>Afrikaans</th>\n",
       "      <td>89861</td>\n",
       "      <td>56630</td>\n",
       "      <td>210648</td>\n",
       "      <td>357139</td>\n",
       "    </tr>\n",
       "    <tr>\n",
       "      <th>Akan</th>\n",
       "      <td>1389</td>\n",
       "      <td>1430</td>\n",
       "      <td>26551</td>\n",
       "      <td>29370</td>\n",
       "    </tr>\n",
       "    <tr>\n",
       "      <th>Amharic</th>\n",
       "      <td>1958</td>\n",
       "      <td>1173</td>\n",
       "      <td>1933</td>\n",
       "      <td>5064</td>\n",
       "    </tr>\n",
       "    <tr>\n",
       "      <th>Cape Verdean Creole</th>\n",
       "      <td>62</td>\n",
       "      <td>120</td>\n",
       "      <td>355</td>\n",
       "      <td>537</td>\n",
       "    </tr>\n",
       "    <tr>\n",
       "      <th>Chewa</th>\n",
       "      <td>1924</td>\n",
       "      <td>937</td>\n",
       "      <td>24818</td>\n",
       "      <td>27679</td>\n",
       "    </tr>\n",
       "    <tr>\n",
       "      <th>Hausa</th>\n",
       "      <td>3403</td>\n",
       "      <td>1549</td>\n",
       "      <td>31588</td>\n",
       "      <td>36540</td>\n",
       "    </tr>\n",
       "    <tr>\n",
       "      <th>Igbo</th>\n",
       "      <td>880</td>\n",
       "      <td>1355</td>\n",
       "      <td>27131</td>\n",
       "      <td>29366</td>\n",
       "    </tr>\n",
       "    <tr>\n",
       "      <th>Kinyarwanda</th>\n",
       "      <td>2293</td>\n",
       "      <td>1311</td>\n",
       "      <td>24992</td>\n",
       "      <td>28596</td>\n",
       "    </tr>\n",
       "    <tr>\n",
       "      <th>Kirundi</th>\n",
       "      <td>741</td>\n",
       "      <td>974</td>\n",
       "      <td>24825</td>\n",
       "      <td>26540</td>\n",
       "    </tr>\n",
       "    <tr>\n",
       "      <th>Kongo</th>\n",
       "      <td>78405</td>\n",
       "      <td>48969</td>\n",
       "      <td>105630</td>\n",
       "      <td>233004</td>\n",
       "    </tr>\n",
       "    <tr>\n",
       "      <th>Lingala</th>\n",
       "      <td>982</td>\n",
       "      <td>1405</td>\n",
       "      <td>25300</td>\n",
       "      <td>27687</td>\n",
       "    </tr>\n",
       "    <tr>\n",
       "      <th>Luganda</th>\n",
       "      <td>777</td>\n",
       "      <td>991</td>\n",
       "      <td>24208</td>\n",
       "      <td>25976</td>\n",
       "    </tr>\n",
       "    <tr>\n",
       "      <th>Malagasy</th>\n",
       "      <td>100219</td>\n",
       "      <td>64549</td>\n",
       "      <td>131960</td>\n",
       "      <td>296728</td>\n",
       "    </tr>\n",
       "    <tr>\n",
       "      <th>Northern Sotho</th>\n",
       "      <td>3195</td>\n",
       "      <td>1263</td>\n",
       "      <td>24796</td>\n",
       "      <td>29254</td>\n",
       "    </tr>\n",
       "    <tr>\n",
       "      <th>Oromo</th>\n",
       "      <td>728</td>\n",
       "      <td>1062</td>\n",
       "      <td>24685</td>\n",
       "      <td>26475</td>\n",
       "    </tr>\n",
       "    <tr>\n",
       "      <th>Shona</th>\n",
       "      <td>1040</td>\n",
       "      <td>1244</td>\n",
       "      <td>25830</td>\n",
       "      <td>28114</td>\n",
       "    </tr>\n",
       "    <tr>\n",
       "      <th>Somali</th>\n",
       "      <td>1620</td>\n",
       "      <td>1790</td>\n",
       "      <td>25609</td>\n",
       "      <td>29019</td>\n",
       "    </tr>\n",
       "    <tr>\n",
       "      <th>Swahili</th>\n",
       "      <td>94448</td>\n",
       "      <td>53039</td>\n",
       "      <td>129341</td>\n",
       "      <td>276828</td>\n",
       "    </tr>\n",
       "    <tr>\n",
       "      <th>Swati</th>\n",
       "      <td>495</td>\n",
       "      <td>1013</td>\n",
       "      <td>22912</td>\n",
       "      <td>24420</td>\n",
       "    </tr>\n",
       "    <tr>\n",
       "      <th>Tigrinya</th>\n",
       "      <td>117</td>\n",
       "      <td>125</td>\n",
       "      <td>217</td>\n",
       "      <td>459</td>\n",
       "    </tr>\n",
       "    <tr>\n",
       "      <th>Tsonga</th>\n",
       "      <td>635</td>\n",
       "      <td>1092</td>\n",
       "      <td>24814</td>\n",
       "      <td>26541</td>\n",
       "    </tr>\n",
       "    <tr>\n",
       "      <th>Tswana</th>\n",
       "      <td>835</td>\n",
       "      <td>1015</td>\n",
       "      <td>24839</td>\n",
       "      <td>26689</td>\n",
       "    </tr>\n",
       "    <tr>\n",
       "      <th>Venda</th>\n",
       "      <td>665</td>\n",
       "      <td>961</td>\n",
       "      <td>24970</td>\n",
       "      <td>26596</td>\n",
       "    </tr>\n",
       "    <tr>\n",
       "      <th>Wolof</th>\n",
       "      <td>76985</td>\n",
       "      <td>48853</td>\n",
       "      <td>105811</td>\n",
       "      <td>231649</td>\n",
       "    </tr>\n",
       "    <tr>\n",
       "      <th>Xhosa</th>\n",
       "      <td>727</td>\n",
       "      <td>1090</td>\n",
       "      <td>25306</td>\n",
       "      <td>27123</td>\n",
       "    </tr>\n",
       "    <tr>\n",
       "      <th>Yoruba</th>\n",
       "      <td>2557</td>\n",
       "      <td>2019</td>\n",
       "      <td>34969</td>\n",
       "      <td>39545</td>\n",
       "    </tr>\n",
       "    <tr>\n",
       "      <th>Zulu</th>\n",
       "      <td>81216</td>\n",
       "      <td>49261</td>\n",
       "      <td>107106</td>\n",
       "      <td>237583</td>\n",
       "    </tr>\n",
       "  </tbody>\n",
       "</table>\n",
       "</div>"
      ],
      "text/plain": [
       "Entity type             LOC    ORG     PER   Total\n",
       "Language                                          \n",
       "Afar                    424    964   25922   27310\n",
       "Afrikaans             89861  56630  210648  357139\n",
       "Akan                   1389   1430   26551   29370\n",
       "Amharic                1958   1173    1933    5064\n",
       "Cape Verdean Creole      62    120     355     537\n",
       "Chewa                  1924    937   24818   27679\n",
       "Hausa                  3403   1549   31588   36540\n",
       "Igbo                    880   1355   27131   29366\n",
       "Kinyarwanda            2293   1311   24992   28596\n",
       "Kirundi                 741    974   24825   26540\n",
       "Kongo                 78405  48969  105630  233004\n",
       "Lingala                 982   1405   25300   27687\n",
       "Luganda                 777    991   24208   25976\n",
       "Malagasy             100219  64549  131960  296728\n",
       "Northern Sotho         3195   1263   24796   29254\n",
       "Oromo                   728   1062   24685   26475\n",
       "Shona                  1040   1244   25830   28114\n",
       "Somali                 1620   1790   25609   29019\n",
       "Swahili               94448  53039  129341  276828\n",
       "Swati                   495   1013   22912   24420\n",
       "Tigrinya                117    125     217     459\n",
       "Tsonga                  635   1092   24814   26541\n",
       "Tswana                  835   1015   24839   26689\n",
       "Venda                   665    961   24970   26596\n",
       "Wolof                 76985  48853  105811  231649\n",
       "Xhosa                   727   1090   25306   27123\n",
       "Yoruba                 2557   2019   34969   39545\n",
       "Zulu                  81216  49261  107106  237583"
      ]
     },
     "execution_count": 14,
     "metadata": {},
     "output_type": "execute_result"
    }
   ],
   "source": [
    "types_per_language"
   ]
  },
  {
   "cell_type": "code",
   "execution_count": 15,
   "metadata": {},
   "outputs": [],
   "source": [
    "# as latex\n",
    "# print(types_per_language.to_latex(index=True, bold_rows=False))"
   ]
  },
  {
   "cell_type": "markdown",
   "metadata": {},
   "source": [
    "### Types per language bar chart"
   ]
  },
  {
   "cell_type": "code",
   "execution_count": 16,
   "metadata": {},
   "outputs": [],
   "source": [
    "import seaborn as sns"
   ]
  },
  {
   "cell_type": "code",
   "execution_count": 17,
   "metadata": {},
   "outputs": [
    {
     "data": {
      "text/plain": [
       "Text(0.5, 0, '')"
      ]
     },
     "execution_count": 17,
     "metadata": {},
     "output_type": "execute_result"
    },
    {
     "data": {
      "image/png": "[encoded data removed]",
      "text/plain": [
       "<Figure size 720x288 with 1 Axes>"
      ]
     },
     "metadata": {
      "needs_background": "light"
     },
     "output_type": "display_data"
    }
   ],
   "source": [
    "ax = types_per_language[['LOC','PER','ORG']].plot(kind='bar',stacked=True, figsize=(10, 4))\n",
    "ax.set_xlabel(\"\")"
   ]
  },
  {
   "cell_type": "markdown",
   "metadata": {},
   "source": [
    "### Similarity to English"
   ]
  },
  {
   "cell_type": "code",
   "execution_count": 18,
   "metadata": {},
   "outputs": [],
   "source": [
    "import wikidata_helpers as wh"
   ]
  },
  {
   "cell_type": "code",
   "execution_count": 19,
   "metadata": {},
   "outputs": [],
   "source": [
    "dump_english_similarity = wh.compute_english_dissimilarity_df(dump.copy()) "
   ]
  },
  {
   "cell_type": "code",
   "execution_count": 20,
   "metadata": {},
   "outputs": [],
   "source": [
    "dump_english_similarity['full_language'] = dump_english_similarity.language.apply(lambda l: abbrev_to_lang[l])"
   ]
  },
  {
   "cell_type": "markdown",
   "metadata": {},
   "source": [
    "### Languages with Wikis"
   ]
  },
  {
   "cell_type": "code",
   "execution_count": 21,
   "metadata": {},
   "outputs": [],
   "source": [
    "langs_with_wikis = set([\"Abkhaz\",\"Acehnese\",\"Adyghe\",\"Afar\",\"Afrikaans\",\"Akan\",\"Albanian\",\"Alemannic\",\"Amharic\",\"Arabic\",\"Aragonese\",\"Aramaic\",\"Armenian\",\"Aromanian\",\"Assamese\",\"Asturian\",\"Atikamekw\",\"Avar\",\"Awadhi\",\"Aymara\",\"Azerbaijani\",\"Balinese\",\"Bambara\",\"Banjar\",\"Banyumasan\",\"Bashkir\",\"Basque\",\"Bavarian\",\"Belarusian\",\"Belarusian (Taraškievica)\",\"Bengali\",\"Bihari (Bhojpuri)\",\"Bishnupriya Manipuri\",\"Bislama\",\"Bosnian\",\"Breton\",\"Buginese\",\"Bulgarian\",\"Burmese\",\"Buryat\",\"Cantonese\",\"Catalan\",\"Cebuano\",\"Central Bikol\",\"Chamorro\",\"Chechen\",\"Cherokee\",\"Chewa\",\"Cheyenne\",\"Chinese(written vernacular Chinese,a form of Mandarin Chinese)\",\"Choctaw\",\"Chuvash\",\"Classical Chinese\",\"Cornish\",\"Corsican\",\"Cree\",\"Crimean Tatar\",\"Croatian\",\"Czech\",\"Danish\",\"Dhivehi\",\"Dinka\",\"Doteli\",\"Dutch\",\"Dutch Low Saxon\",\"Dzongkha\",\"Eastern Min/Min Dong\",\"Eastern Punjabi\",\"Egyptian Arabic\",\"Emilian-Romagnol\",\"English\",\"Erzya\",\"Esperanto\",\"Estonian\",\"Ewe\",\"Extremaduran\",\"Faroese\",\"Fiji Hindi\",\"Fijian\",\"Finnish\",\"Franco-Provençal/Arpitan\",\"French\",\"Friulian\",\"Fula\",\"Gagauz\",\"Galician\",\"Gan Chinese\",\"Georgian\",\"German\",\"Gilaki\",\"Gorontalo\",\"Gothic\",\"Greek\",\"Greenlandic\",\"Guarani\",\"Guianan Creole\",\"Gujarati\",\"Haitian Creole\",\"Hakka\",\"Hausa\",\"Hawaiian\",\"Hebrew\",\"Herero\",\"Hill Mari\",\"Hindi\",\"Hiri Motu\",\"Hungarian\",\"Icelandic\",\"Ido\",\"Igbo\",\"Ilokano\",\"Inari Sami\",\"Indonesian\",\"Ingush\",\"Interlingua\",\"Interlingue\",\"Inuktitut\",\"Inupiaq\",\"Irish\",\"Italian\",\"Jamaican Patois\",\"Japanese\",\"Javanese\",\"Judaeo-Spanish/Ladino\",\"Kabardian\",\"Kabiye\",\"Kabyle\",\"Kalmyk\",\"Kannada\",\"Kanuri\",\"Kapampangan\",\"Karachay-Balkar\",\"Karakalpak\",\"Kashmiri\",\"Kashubian\",\"Kazakh\",\"Khmer\",\"Kikuyu\",\"Kinyarwanda\",\"Kirundi\",\"Komi\",\"Komi-Permyak\",\"Kongo\",\"Konkani\",\"Korean\",\"Kotava\",\"Kuanyama\",\"Kurdish (Kurmanji)\",\"Kurdish (Sorani)\",\"Kyrgyz\",\"Ladin\",\"Lak\",\"Lao\",\"Latgalian\",\"Latin\",\"Latvian\",\"Lezgian\",\"Ligurian\",\"Limburgish\",\"Lingala\",\"Lingua Franca Nova\",\"Lithuanian\",\"Livvi-Karelian\",\"Lojban\",\"Lombard\",\"Low German\",\"Lower Sorbian\",\"Luganda\",\"Luxembourgish\",\"Macedonian\",\"Madurese\",\"Maithili\",\"Malagasy\",\"Malay\",\"Malayalam\",\"Maltese\",\"Manx\",\"Marathi\",\"Marshallese\",\"Mazanderani\",\"Meadow Mari\",\"Minangkabau\",\"Mingrelian\",\"Mirandese\",\"Moksha\",\"Moldovan\",\"Mon\",\"Mongolian\",\"Moroccan Arabic\",\"Muscogee\",\"Māori\",\"N'Ko\",\"Nahuatl\",\"Nauruan\",\"Navajo\",\"Ndonga\",\"Neapolitan\",\"Nepali\",\"Newar/Nepal Bhasa\",\"Nias\",\"Norfolk\",\"Norman\",\"North Frisian\",\"Northern Luri\",\"Northern Sami\",\"Northern Sotho\",\"Norwegian (Bokmål)\",\"Norwegian (Nynorsk)\",\"Novial\",\"Nuosu/Sichuan Yi\",\"Occitan\",\"Odia\",\"Old Church Slavonic\",\"Old English/Anglo-Saxon\",\"Oromo\",\"Ossetian\",\"Palatine German\",\"Pali\",\"Pangasinan\",\"Papiamento\",\"Pashto\",\"Pennsylvania German\",\"Persian\",\"Picard\",\"Piedmontese\",\"Polish\",\"Pontic Greek\",\"Portuguese\",\"Quechua\",\"Ripuarian\",\"Romanian\",\"Romansh\",\"Russian\",\"Rusyn\",\"Sakizaya\",\"Samoan\",\"Samogitian\",\"Sango\",\"Sanskrit\",\"Santali\",\"Saraiki\",\"Sardinian\",\"Saterland Frisian\",\"Scots\",\"Scottish Gaelic\",\"Serbian\",\"Serbo-Croatian\",\"Shan\",\"Shona\",\"Sicilian\",\"Silesian\",\"Simple English\",\"Sindhi\",\"Sinhalese\",\"Slovak\",\"Slovene\",\"Somali\",\"Sotho\",\"South Azerbaijani\",\"Southern Min/Min Nan\",\"Spanish\",\"Sranan Tongo\",\"Sundanese\",\"Swahili\",\"Swazi\",\"Swedish\",\"Tagalog\",\"Tahitian\",\"Tajik\",\"Tamil\",\"Tarantino\",\"Tatar\",\"Telugu\",\"Tetum\",\"Thai\",\"Tibetan\",\"Tigrinya\",\"Tok Pisin\",\"Tongan\",\"Tsonga\",\"Tswana\",\"Tulu\",\"Tumbuka\",\"Turkish\",\"Turkmen\",\"Tuvan\",\"Twi\",\"Udmurt\",\"Ukrainian\",\"Upper Sorbian\",\"Urdu\",\"Uyghur\",\"Uzbek\",\"Venda\",\"Venetian\",\"Veps\",\"Vietnamese\",\"Vlax Romani\",\"Volapük\",\"Võro\",\"Walloon\",\"Waray\",\"Welsh\",\"West Flemish\",\"West Frisian\",\"Western Armenian\",\"Western Punjabi\",\"Wolof\",\"Wu\",\"Xhosa\",\"Yakut/Sakha\",\"Yiddish\",\"Yoruba\",\"Zamboanga Chavacano\",\"Zazaki\",\"Zeelandic\",\"Zhuang\",\"Zulu\"])"
   ]
  },
  {
   "cell_type": "markdown",
   "metadata": {},
   "source": [
    "### Join to big table"
   ]
  },
  {
   "cell_type": "code",
   "execution_count": 22,
   "metadata": {},
   "outputs": [],
   "source": [
    "join_to_big_table = dump_english_similarity[['full_language', 'english_similarity']].copy()"
   ]
  },
  {
   "cell_type": "code",
   "execution_count": 23,
   "metadata": {},
   "outputs": [],
   "source": [
    "join_to_big_table.columns = ['Language', 'English overlap (%)']"
   ]
  },
  {
   "cell_type": "code",
   "execution_count": 24,
   "metadata": {},
   "outputs": [],
   "source": [
    "big_table = pd.merge(types_per_language, join_to_big_table, on=\"Language\")\n",
    "big_table['Language code'] = big_table.Language.apply(lambda l: lang_to_abbrev[l])"
   ]
  },
  {
   "cell_type": "code",
   "execution_count": 25,
   "metadata": {},
   "outputs": [],
   "source": [
    "big_table['English overlap (%)']  = 100*big_table['English overlap (%)'].round(3)"
   ]
  },
  {
   "cell_type": "code",
   "execution_count": 42,
   "metadata": {},
   "outputs": [],
   "source": [
    "big_table['Has Wikipedia'] = big_table['Language'].apply(lambda l: \"True\" if l in langs_with_wikis else \"\")"
   ]
  },
  {
   "cell_type": "code",
   "execution_count": 43,
   "metadata": {},
   "outputs": [],
   "source": [
    "big_table = big_table[['Language', 'Language code','Has Wikipedia', 'LOC', 'ORG', 'PER', 'Total', 'English overlap (%)']]"
   ]
  },
  {
   "cell_type": "code",
   "execution_count": 45,
   "metadata": {},
   "outputs": [],
   "source": [
    "pd.DataFrame.to_latex?"
   ]
  },
  {
   "cell_type": "code",
   "execution_count": 49,
   "metadata": {},
   "outputs": [],
   "source": [
    "def add_thousands_comma(value):\n",
    "    return f'{value:,}'"
   ]
  },
  {
   "cell_type": "code",
   "execution_count": 126,
   "metadata": {},
   "outputs": [],
   "source": [
    "big_table_lang_index = big_table.set_index(\"Language\")"
   ]
  },
  {
   "cell_type": "code",
   "execution_count": 139,
   "metadata": {},
   "outputs": [],
   "source": [
    "big_table_lang_index.loc['Average'] = big_table_lang_index.mean(axis=0).round()\n",
    "big_table_lang_index.loc['Median'] = big_table_lang_index.median(axis=0).round()"
   ]
  },
  {
   "cell_type": "code",
   "execution_count": 140,
   "metadata": {},
   "outputs": [
    {
     "name": "stdout",
     "output_type": "stream",
     "text": [
      "\\begin{tabular}{lllrrrrr}\n",
      "\\toprule\n",
      "{} & Language code & Has Wikipedia &       LOC &      ORG &       PER &     Total &  English overlap (\\%) \\\\\n",
      "Language            &               &               &           &          &           &           &                      \\\\\n",
      "\\midrule\n",
      "Afar                &            aa &          True &     424.0 &    964.0 &  25,922.0 &  27,310.0 &                 98.6 \\\\\n",
      "Afrikaans           &            af &          True &  89,861.0 & 56,630.0 & 210,648.0 & 357,139.0 &                 92.6 \\\\\n",
      "Akan                &            ak &          True &   1,389.0 &  1,430.0 &  26,551.0 &  29,370.0 &                 97.5 \\\\\n",
      "Amharic             &            am &          True &   1,958.0 &  1,173.0 &   1,933.0 &   5,064.0 &                  4.6 \\\\\n",
      "Cape Verdean Creole &           kea &               &      62.0 &    120.0 &     355.0 &     537.0 &                 82.5 \\\\\n",
      "Chewa               &            ny &          True &   1,924.0 &    937.0 &  24,818.0 &  27,679.0 &                 97.9 \\\\\n",
      "Hausa               &            ha &          True &   3,403.0 &  1,549.0 &  31,588.0 &  36,540.0 &                 94.5 \\\\\n",
      "Igbo                &            ig &          True &     880.0 &  1,355.0 &  27,131.0 &  29,366.0 &                 97.3 \\\\\n",
      "Kinyarwanda         &            rw &          True &   2,293.0 &  1,311.0 &  24,992.0 &  28,596.0 &                 96.0 \\\\\n",
      "Kirundi             &            rn &          True &     741.0 &    974.0 &  24,825.0 &  26,540.0 &                 98.3 \\\\\n",
      "Kongo               &            kg &          True &  78,405.0 & 48,969.0 & 105,630.0 & 233,004.0 &                 97.8 \\\\\n",
      "Lingala             &            ln &          True &     982.0 &  1,405.0 &  25,300.0 &  27,687.0 &                 95.8 \\\\\n",
      "Luganda             &            lg &          True &     777.0 &    991.0 &  24,208.0 &  25,976.0 &                 97.9 \\\\\n",
      "Malagasy            &            mg &          True & 100,219.0 & 64,549.0 & 131,960.0 & 296,728.0 &                 92.4 \\\\\n",
      "Northern Sotho      &           nso &          True &   3,195.0 &  1,263.0 &  24,796.0 &  29,254.0 &                 93.0 \\\\\n",
      "Oromo               &            om &          True &     728.0 &  1,062.0 &  24,685.0 &  26,475.0 &                 96.7 \\\\\n",
      "Shona               &            sn &          True &   1,040.0 &  1,244.0 &  25,830.0 &  28,114.0 &                 98.4 \\\\\n",
      "Somali              &            so &          True &   1,620.0 &  1,790.0 &  25,609.0 &  29,019.0 &                 93.1 \\\\\n",
      "Swahili             &            sw &          True &  94,448.0 & 53,039.0 & 129,341.0 & 276,828.0 &                 92.2 \\\\\n",
      "Swati               &            ss &               &     495.0 &  1,013.0 &  22,912.0 &  24,420.0 &                 97.3 \\\\\n",
      "Tigrinya            &            ti &          True &     117.0 &    125.0 &     217.0 &     459.0 &                 44.7 \\\\\n",
      "Tsonga              &            ts &          True &     635.0 &  1,092.0 &  24,814.0 &  26,541.0 &                 98.4 \\\\\n",
      "Tswana              &            tn &          True &     835.0 &  1,015.0 &  24,839.0 &  26,689.0 &                 98.0 \\\\\n",
      "Venda               &            ve &          True &     665.0 &    961.0 &  24,970.0 &  26,596.0 &                 98.3 \\\\\n",
      "Wolof               &            wo &          True &  76,985.0 & 48,853.0 & 105,811.0 & 231,649.0 &                 97.7 \\\\\n",
      "Xhosa               &            xh &          True &     727.0 &  1,090.0 &  25,306.0 &  27,123.0 &                 97.6 \\\\\n",
      "Yoruba              &            yo &          True &   2,557.0 &  2,019.0 &  34,969.0 &  39,545.0 &                 90.6 \\\\\n",
      "Zulu                &            zu &          True &  81,216.0 & 49,261.0 & 107,106.0 & 237,583.0 &                 97.3 \\\\\n",
      "Average             &           NaN &           NaN &  19,592.0 & 12,364.0 &  45,967.0 &  77,923.0 &                 91.0 \\\\\n",
      "Median              &           NaN &           NaN &   1,389.0 &  1,263.0 &  25,306.0 &  28,114.0 &                 97.0 \\\\\n",
      "\\bottomrule\n",
      "\\end{tabular}\n",
      "\n"
     ]
    }
   ],
   "source": [
    "print(big_table_lang_index.to_latex(index=True, formatters={\"PER\": add_thousands_comma, \"LOC\": add_thousands_comma, \"ORG\": add_thousands_comma, \"Total\": add_thousands_comma}))"
   ]
  },
  {
   "cell_type": "code",
   "execution_count": 29,
   "metadata": {},
   "outputs": [],
   "source": [
    "empty_langs = list(set(abbrev_to_lang_table['Language code'].unique()) - set(big_table['Language code'].unique()))"
   ]
  },
  {
   "cell_type": "code",
   "execution_count": 30,
   "metadata": {},
   "outputs": [],
   "source": [
    "empty_full_langs = [abbrev_to_lang[a] for a in empty_langs]"
   ]
  },
  {
   "cell_type": "code",
   "execution_count": 142,
   "metadata": {},
   "outputs": [],
   "source": [
    "wh.compute_english_dissimilarity_df??"
   ]
  },
  {
   "cell_type": "markdown",
   "metadata": {},
   "source": [
    "### most diverse language"
   ]
  },
  {
   "cell_type": "code",
   "execution_count": 69,
   "metadata": {},
   "outputs": [],
   "source": [
    "def n_unique_aliases(df):\n",
    "    return len(set(df.alias))"
   ]
  },
  {
   "cell_type": "code",
   "execution_count": 85,
   "metadata": {
    "scrolled": true
   },
   "outputs": [
    {
     "data": {
      "text/plain": [
       "id\n",
       "Q30      24\n",
       "Q142     22\n",
       "Q258     22\n",
       "Q183     21\n",
       "Q1859    20\n",
       "Q43      19\n",
       "Q148     18\n",
       "Q46      18\n",
       "Q29      18\n",
       "Q971     18\n",
       "dtype: int64"
      ]
     },
     "execution_count": 85,
     "metadata": {},
     "output_type": "execute_result"
    }
   ],
   "source": [
    "dump.groupby('id').apply(n_unique_aliases).sort_values(ascending=False).head(10)"
   ]
  },
  {
   "cell_type": "code",
   "execution_count": 94,
   "metadata": {},
   "outputs": [],
   "source": [
    "african_union = dump[dump.id == \"Q7159\"]"
   ]
  },
  {
   "cell_type": "code",
   "execution_count": 98,
   "metadata": {},
   "outputs": [
    {
     "data": {
      "text/html": [
       "<div>\n",
       "<style scoped>\n",
       "    .dataframe tbody tr th:only-of-type {\n",
       "        vertical-align: middle;\n",
       "    }\n",
       "\n",
       "    .dataframe tbody tr th {\n",
       "        vertical-align: top;\n",
       "    }\n",
       "\n",
       "    .dataframe thead th {\n",
       "        text-align: right;\n",
       "    }\n",
       "</style>\n",
       "<table border=\"1\" class=\"dataframe\">\n",
       "  <thead>\n",
       "    <tr style=\"text-align: right;\">\n",
       "      <th></th>\n",
       "      <th>name</th>\n",
       "      <th>alias</th>\n",
       "      <th>full_language</th>\n",
       "    </tr>\n",
       "  </thead>\n",
       "  <tbody>\n",
       "    <tr>\n",
       "      <th>441555</th>\n",
       "      <td>African Union</td>\n",
       "      <td>Iqoqo i-Afrika</td>\n",
       "      <td>Zulu</td>\n",
       "    </tr>\n",
       "    <tr>\n",
       "      <th>441557</th>\n",
       "      <td>African Union</td>\n",
       "      <td>የአፍሪቃ ህብረት</td>\n",
       "      <td>Amharic</td>\n",
       "    </tr>\n",
       "  </tbody>\n",
       "</table>\n",
       "</div>"
      ],
      "text/plain": [
       "                 name           alias full_language\n",
       "441555  African Union  Iqoqo i-Afrika          Zulu\n",
       "441557  African Union      የአፍሪቃ ህብረት       Amharic"
      ]
     },
     "execution_count": 98,
     "metadata": {},
     "output_type": "execute_result"
    }
   ],
   "source": [
    "african_union[african_union.language.isin(['zu', 'am'])].head(2)[['name','alias', 'full_language']]"
   ]
  },
  {
   "cell_type": "code",
   "execution_count": 122,
   "metadata": {},
   "outputs": [],
   "source": [
    "def create_comparison_table(dump, wikidata_id, langs):\n",
    "    subset = dump[dump.id == wikidata_id]\n",
    "    subset = subset[subset.language.isin(langs)].head(len(langs))[['name','alias', 'full_language']].copy()\n",
    "    subset_dict = subset.set_index('full_language').to_dict('index')\n",
    "    out = pd.DataFrame()\n",
    "    out['English'] = [subset.name.tolist()[0]]\n",
    "    for lang in subset_dict:\n",
    "        out[lang] = [subset_dict[lang]['alias']]\n",
    "    return out"
   ]
  },
  {
   "cell_type": "code",
   "execution_count": 123,
   "metadata": {},
   "outputs": [],
   "source": [
    "african_union_comparison = create_comparison_table(dump, \"Q7159\", \"zu,am\".split(\",\"))"
   ]
  },
  {
   "cell_type": "code",
   "execution_count": 125,
   "metadata": {},
   "outputs": [
    {
     "name": "stdout",
     "output_type": "stream",
     "text": [
      "\\begin{tabular}{lll}\n",
      "\\toprule\n",
      "       English &            Zulu &     Amharic \\\\\n",
      "\\midrule\n",
      " African Union &  Iqoqo i-Afrika &  የአፍሪቃ ህብረት \\\\\n",
      "\\bottomrule\n",
      "\\end{tabular}\n",
      "\n"
     ]
    }
   ],
   "source": [
    "print(african_union_comparison.to_latex(index=False))"
   ]
  },
  {
   "cell_type": "code",
   "execution_count": 91,
   "metadata": {},
   "outputs": [],
   "source": [
    "# america[['alias', 'full_language']]#.set_index('full_language').unstack()"
   ]
  },
  {
   "cell_type": "markdown",
   "metadata": {},
   "source": [
    "### amharic"
   ]
  },
  {
   "cell_type": "code",
   "execution_count": 54,
   "metadata": {},
   "outputs": [],
   "source": [
    "amharic = dump[dump.language == 'am'].copy()"
   ]
  },
  {
   "cell_type": "code",
   "execution_count": 55,
   "metadata": {},
   "outputs": [
    {
     "data": {
      "text/plain": [
       "0.9543838862559242"
      ]
     },
     "execution_count": 55,
     "metadata": {},
     "output_type": "execute_result"
    }
   ],
   "source": [
    "((amharic.name != amharic.alias)|(amharic.name==amharic.id)).mean()"
   ]
  },
  {
   "cell_type": "code",
   "execution_count": 58,
   "metadata": {},
   "outputs": [
    {
     "data": {
      "text/html": [
       "<div>\n",
       "<style scoped>\n",
       "    .dataframe tbody tr th:only-of-type {\n",
       "        vertical-align: middle;\n",
       "    }\n",
       "\n",
       "    .dataframe tbody tr th {\n",
       "        vertical-align: top;\n",
       "    }\n",
       "\n",
       "    .dataframe thead th {\n",
       "        text-align: right;\n",
       "    }\n",
       "</style>\n",
       "<table border=\"1\" class=\"dataframe\">\n",
       "  <thead>\n",
       "    <tr style=\"text-align: right;\">\n",
       "      <th></th>\n",
       "      <th>id</th>\n",
       "      <th>name</th>\n",
       "      <th>alias</th>\n",
       "      <th>language</th>\n",
       "      <th>type</th>\n",
       "      <th>full_language</th>\n",
       "    </tr>\n",
       "  </thead>\n",
       "  <tbody>\n",
       "    <tr>\n",
       "      <th>497790</th>\n",
       "      <td>Q151148</td>\n",
       "      <td>Chola dynasty</td>\n",
       "      <td>የቾላ ሥርወ መንግሥት</td>\n",
       "      <td>am</td>\n",
       "      <td>LOC</td>\n",
       "      <td>Amharic</td>\n",
       "    </tr>\n",
       "    <tr>\n",
       "      <th>497757</th>\n",
       "      <td>Q13143690</td>\n",
       "      <td>Q13143690</td>\n",
       "      <td>ሞያሌ፣ ኦሮሚያ(ወረዳ)</td>\n",
       "      <td>am</td>\n",
       "      <td>LOC</td>\n",
       "      <td>Amharic</td>\n",
       "    </tr>\n",
       "    <tr>\n",
       "      <th>467263</th>\n",
       "      <td>Q104452144</td>\n",
       "      <td>Claudia Marietta</td>\n",
       "      <td>Claudia Marietta</td>\n",
       "      <td>am</td>\n",
       "      <td>PER</td>\n",
       "      <td>Amharic</td>\n",
       "    </tr>\n",
       "    <tr>\n",
       "      <th>627261</th>\n",
       "      <td>Q191719</td>\n",
       "      <td>Zooey Deschanel</td>\n",
       "      <td>ዞዊ ዴሸኔል</td>\n",
       "      <td>am</td>\n",
       "      <td>PER</td>\n",
       "      <td>Amharic</td>\n",
       "    </tr>\n",
       "    <tr>\n",
       "      <th>325532</th>\n",
       "      <td>Q809658</td>\n",
       "      <td>Le Nain Brothers</td>\n",
       "      <td>ለ ኔን ወንድሞች</td>\n",
       "      <td>am</td>\n",
       "      <td>ORG</td>\n",
       "      <td>Amharic</td>\n",
       "    </tr>\n",
       "    <tr>\n",
       "      <th>1227404</th>\n",
       "      <td>Q20607139</td>\n",
       "      <td>Tamrat Molla</td>\n",
       "      <td>ታምራት ሞላ</td>\n",
       "      <td>am</td>\n",
       "      <td>PER</td>\n",
       "      <td>Amharic</td>\n",
       "    </tr>\n",
       "    <tr>\n",
       "      <th>1227458</th>\n",
       "      <td>Q536201</td>\n",
       "      <td>Eriba-Adad II</td>\n",
       "      <td>2 ኤሪባ-አዳድ</td>\n",
       "      <td>am</td>\n",
       "      <td>PER</td>\n",
       "      <td>Amharic</td>\n",
       "    </tr>\n",
       "    <tr>\n",
       "      <th>497520</th>\n",
       "      <td>Q20629906</td>\n",
       "      <td>Q20629906</td>\n",
       "      <td>ዶዶታና ሲሬ</td>\n",
       "      <td>am</td>\n",
       "      <td>LOC</td>\n",
       "      <td>Amharic</td>\n",
       "    </tr>\n",
       "    <tr>\n",
       "      <th>141886</th>\n",
       "      <td>Q35775</td>\n",
       "      <td>Boise</td>\n",
       "      <td>ቦይዚ</td>\n",
       "      <td>am</td>\n",
       "      <td>ORG</td>\n",
       "      <td>Amharic</td>\n",
       "    </tr>\n",
       "    <tr>\n",
       "      <th>102219</th>\n",
       "      <td>Q956</td>\n",
       "      <td>Beijing</td>\n",
       "      <td>ቤዪጂንግ</td>\n",
       "      <td>am</td>\n",
       "      <td>ORG</td>\n",
       "      <td>Amharic</td>\n",
       "    </tr>\n",
       "    <tr>\n",
       "      <th>265002</th>\n",
       "      <td>Q4127</td>\n",
       "      <td>Lake Constance</td>\n",
       "      <td>ኮንስታንጽ ሃይቅ</td>\n",
       "      <td>am</td>\n",
       "      <td>LOC</td>\n",
       "      <td>Amharic</td>\n",
       "    </tr>\n",
       "    <tr>\n",
       "      <th>1227653</th>\n",
       "      <td>Q887197</td>\n",
       "      <td>Renseneb</td>\n",
       "      <td>ረንሰነብ</td>\n",
       "      <td>am</td>\n",
       "      <td>PER</td>\n",
       "      <td>Amharic</td>\n",
       "    </tr>\n",
       "    <tr>\n",
       "      <th>497099</th>\n",
       "      <td>Q503705</td>\n",
       "      <td>Baierbrunn</td>\n",
       "      <td>ባየርብሩን</td>\n",
       "      <td>am</td>\n",
       "      <td>LOC</td>\n",
       "      <td>Amharic</td>\n",
       "    </tr>\n",
       "    <tr>\n",
       "      <th>497647</th>\n",
       "      <td>Q20626766</td>\n",
       "      <td>Q20626766</td>\n",
       "      <td>አዳ ጩቃላ</td>\n",
       "      <td>am</td>\n",
       "      <td>LOC</td>\n",
       "      <td>Amharic</td>\n",
       "    </tr>\n",
       "    <tr>\n",
       "      <th>497211</th>\n",
       "      <td>Q1110037</td>\n",
       "      <td>Agaro</td>\n",
       "      <td>አጋሮ</td>\n",
       "      <td>am</td>\n",
       "      <td>LOC</td>\n",
       "      <td>Amharic</td>\n",
       "    </tr>\n",
       "    <tr>\n",
       "      <th>1227394</th>\n",
       "      <td>Q13143504</td>\n",
       "      <td>Q13143504</td>\n",
       "      <td>መላኩ ተፈራ</td>\n",
       "      <td>am</td>\n",
       "      <td>PER</td>\n",
       "      <td>Amharic</td>\n",
       "    </tr>\n",
       "    <tr>\n",
       "      <th>497862</th>\n",
       "      <td>Q4783883</td>\n",
       "      <td>Magech River</td>\n",
       "      <td>መገጭ</td>\n",
       "      <td>am</td>\n",
       "      <td>LOC</td>\n",
       "      <td>Amharic</td>\n",
       "    </tr>\n",
       "    <tr>\n",
       "      <th>439458</th>\n",
       "      <td>Q1028</td>\n",
       "      <td>Morocco</td>\n",
       "      <td>ሞሮኮ</td>\n",
       "      <td>am</td>\n",
       "      <td>LOC</td>\n",
       "      <td>Amharic</td>\n",
       "    </tr>\n",
       "    <tr>\n",
       "      <th>60835</th>\n",
       "      <td>Q1006</td>\n",
       "      <td>Guinea</td>\n",
       "      <td>ጊኔ</td>\n",
       "      <td>am</td>\n",
       "      <td>ORG</td>\n",
       "      <td>Amharic</td>\n",
       "    </tr>\n",
       "    <tr>\n",
       "      <th>213996</th>\n",
       "      <td>Q1729</td>\n",
       "      <td>Erfurt</td>\n",
       "      <td>ኤርፉርት</td>\n",
       "      <td>am</td>\n",
       "      <td>ORG</td>\n",
       "      <td>Amharic</td>\n",
       "    </tr>\n",
       "    <tr>\n",
       "      <th>20455</th>\n",
       "      <td>Q6107023</td>\n",
       "      <td>Feminaria</td>\n",
       "      <td>Feminaria</td>\n",
       "      <td>am</td>\n",
       "      <td>ORG</td>\n",
       "      <td>Amharic</td>\n",
       "    </tr>\n",
       "    <tr>\n",
       "      <th>60687</th>\n",
       "      <td>Q2141</td>\n",
       "      <td>Halifax</td>\n",
       "      <td>ሃሊፋክስ</td>\n",
       "      <td>am</td>\n",
       "      <td>ORG</td>\n",
       "      <td>Amharic</td>\n",
       "    </tr>\n",
       "    <tr>\n",
       "      <th>774035</th>\n",
       "      <td>Q1425</td>\n",
       "      <td>Trajan</td>\n",
       "      <td>Trajan</td>\n",
       "      <td>am</td>\n",
       "      <td>PER</td>\n",
       "      <td>Amharic</td>\n",
       "    </tr>\n",
       "    <tr>\n",
       "      <th>1228221</th>\n",
       "      <td>Q1195050</td>\n",
       "      <td>Zhong Kang</td>\n",
       "      <td>ዦንግ ካንግ</td>\n",
       "      <td>am</td>\n",
       "      <td>PER</td>\n",
       "      <td>Amharic</td>\n",
       "    </tr>\n",
       "    <tr>\n",
       "      <th>1227466</th>\n",
       "      <td>Q370229</td>\n",
       "      <td>Huzziya I</td>\n",
       "      <td>1 ሑዚያ</td>\n",
       "      <td>am</td>\n",
       "      <td>PER</td>\n",
       "      <td>Amharic</td>\n",
       "    </tr>\n",
       "    <tr>\n",
       "      <th>131690</th>\n",
       "      <td>Q270734</td>\n",
       "      <td>Broken Hill</td>\n",
       "      <td>ብሮክን ሂል</td>\n",
       "      <td>am</td>\n",
       "      <td>LOC</td>\n",
       "      <td>Amharic</td>\n",
       "    </tr>\n",
       "    <tr>\n",
       "      <th>1227237</th>\n",
       "      <td>Q5118345</td>\n",
       "      <td>Chushan-Rishathaim</td>\n",
       "      <td>ኲሰርሰቴም</td>\n",
       "      <td>am</td>\n",
       "      <td>PER</td>\n",
       "      <td>Amharic</td>\n",
       "    </tr>\n",
       "    <tr>\n",
       "      <th>325647</th>\n",
       "      <td>Q30266446</td>\n",
       "      <td>Asossa University</td>\n",
       "      <td>አሶሳ ዩኒቨርሲቲ</td>\n",
       "      <td>am</td>\n",
       "      <td>ORG</td>\n",
       "      <td>Amharic</td>\n",
       "    </tr>\n",
       "    <tr>\n",
       "      <th>1228268</th>\n",
       "      <td>Q13146248</td>\n",
       "      <td>Q13146248</td>\n",
       "      <td>ዶንገም</td>\n",
       "      <td>am</td>\n",
       "      <td>PER</td>\n",
       "      <td>Amharic</td>\n",
       "    </tr>\n",
       "    <tr>\n",
       "      <th>381087</th>\n",
       "      <td>Q25282</td>\n",
       "      <td>Da Nang</td>\n",
       "      <td>ዳ ናንግ</td>\n",
       "      <td>am</td>\n",
       "      <td>LOC</td>\n",
       "      <td>Amharic</td>\n",
       "    </tr>\n",
       "    <tr>\n",
       "      <th>49697</th>\n",
       "      <td>Q1130849</td>\n",
       "      <td>Liverpool F.C.</td>\n",
       "      <td>ሊቨርፑል የእግር ኳስ ክለብ</td>\n",
       "      <td>am</td>\n",
       "      <td>ORG</td>\n",
       "      <td>Amharic</td>\n",
       "    </tr>\n",
       "    <tr>\n",
       "      <th>72258</th>\n",
       "      <td>Q994</td>\n",
       "      <td>Tbilisi</td>\n",
       "      <td>ትብሊሲ</td>\n",
       "      <td>am</td>\n",
       "      <td>LOC</td>\n",
       "      <td>Amharic</td>\n",
       "    </tr>\n",
       "    <tr>\n",
       "      <th>924751</th>\n",
       "      <td>Q30487</td>\n",
       "      <td>Mikhail Gorbachev</td>\n",
       "      <td>ምኻይል ጎርባቾቭ</td>\n",
       "      <td>am</td>\n",
       "      <td>PER</td>\n",
       "      <td>Amharic</td>\n",
       "    </tr>\n",
       "    <tr>\n",
       "      <th>325882</th>\n",
       "      <td>Q2393569</td>\n",
       "      <td>Harrar Beer Bottling F.C.</td>\n",
       "      <td>ሐረር ቢራ የእግር ኳስ ክለብ</td>\n",
       "      <td>am</td>\n",
       "      <td>ORG</td>\n",
       "      <td>Amharic</td>\n",
       "    </tr>\n",
       "    <tr>\n",
       "      <th>699375</th>\n",
       "      <td>Q8620</td>\n",
       "      <td>Kwame Nkrumah</td>\n",
       "      <td>ክዋሜ ንክሩማህ</td>\n",
       "      <td>am</td>\n",
       "      <td>PER</td>\n",
       "      <td>Amharic</td>\n",
       "    </tr>\n",
       "    <tr>\n",
       "      <th>1082614</th>\n",
       "      <td>Q296439</td>\n",
       "      <td>Mentuhotep II</td>\n",
       "      <td>2 መንቱሆተፕ</td>\n",
       "      <td>am</td>\n",
       "      <td>PER</td>\n",
       "      <td>Amharic</td>\n",
       "    </tr>\n",
       "    <tr>\n",
       "      <th>103155</th>\n",
       "      <td>Q1033</td>\n",
       "      <td>Nigeria</td>\n",
       "      <td>ናይጄሪያ</td>\n",
       "      <td>am</td>\n",
       "      <td>ORG</td>\n",
       "      <td>Amharic</td>\n",
       "    </tr>\n",
       "    <tr>\n",
       "      <th>1227084</th>\n",
       "      <td>Q20630001</td>\n",
       "      <td>Yemane Abadi</td>\n",
       "      <td>የማነ አባዲ</td>\n",
       "      <td>am</td>\n",
       "      <td>PER</td>\n",
       "      <td>Amharic</td>\n",
       "    </tr>\n",
       "    <tr>\n",
       "      <th>854339</th>\n",
       "      <td>Q216341</td>\n",
       "      <td>Connie Francis</td>\n",
       "      <td>ኮኒ ፍራንሲስ</td>\n",
       "      <td>am</td>\n",
       "      <td>PER</td>\n",
       "      <td>Amharic</td>\n",
       "    </tr>\n",
       "    <tr>\n",
       "      <th>1227015</th>\n",
       "      <td>Q888280</td>\n",
       "      <td>Sewadjkare Hori</td>\n",
       "      <td>ሰዋጅካሬ</td>\n",
       "      <td>am</td>\n",
       "      <td>PER</td>\n",
       "      <td>Amharic</td>\n",
       "    </tr>\n",
       "    <tr>\n",
       "      <th>1228054</th>\n",
       "      <td>Q298221</td>\n",
       "      <td>Kathy Reichs</td>\n",
       "      <td>ካቲ ራይክስ</td>\n",
       "      <td>am</td>\n",
       "      <td>PER</td>\n",
       "      <td>Amharic</td>\n",
       "    </tr>\n",
       "    <tr>\n",
       "      <th>497143</th>\n",
       "      <td>Q3325049</td>\n",
       "      <td>Mota, Ethiopia</td>\n",
       "      <td>ሞጣ</td>\n",
       "      <td>am</td>\n",
       "      <td>LOC</td>\n",
       "      <td>Amharic</td>\n",
       "    </tr>\n",
       "    <tr>\n",
       "      <th>198405</th>\n",
       "      <td>Q41057</td>\n",
       "      <td>Topeka</td>\n",
       "      <td>ቶፒካ</td>\n",
       "      <td>am</td>\n",
       "      <td>LOC</td>\n",
       "      <td>Amharic</td>\n",
       "    </tr>\n",
       "    <tr>\n",
       "      <th>379755</th>\n",
       "      <td>Q223</td>\n",
       "      <td>Greenland</td>\n",
       "      <td>ግሪንላንድ</td>\n",
       "      <td>am</td>\n",
       "      <td>LOC</td>\n",
       "      <td>Amharic</td>\n",
       "    </tr>\n",
       "    <tr>\n",
       "      <th>18286</th>\n",
       "      <td>Q5836</td>\n",
       "      <td>Toledo</td>\n",
       "      <td>ቶሌዶ</td>\n",
       "      <td>am</td>\n",
       "      <td>LOC</td>\n",
       "      <td>Amharic</td>\n",
       "    </tr>\n",
       "    <tr>\n",
       "      <th>1227444</th>\n",
       "      <td>Q215778</td>\n",
       "      <td>Marie François Sadi Carnot</td>\n",
       "      <td>ሳዲ ካርኖ</td>\n",
       "      <td>am</td>\n",
       "      <td>PER</td>\n",
       "      <td>Amharic</td>\n",
       "    </tr>\n",
       "    <tr>\n",
       "      <th>1228140</th>\n",
       "      <td>Q316221</td>\n",
       "      <td>Ashur-uballit II</td>\n",
       "      <td>2 አሹር-ኡባሊት</td>\n",
       "      <td>am</td>\n",
       "      <td>PER</td>\n",
       "      <td>Amharic</td>\n",
       "    </tr>\n",
       "    <tr>\n",
       "      <th>214349</th>\n",
       "      <td>Q340</td>\n",
       "      <td>Montreal</td>\n",
       "      <td>ሞንትሬያል</td>\n",
       "      <td>am</td>\n",
       "      <td>ORG</td>\n",
       "      <td>Amharic</td>\n",
       "    </tr>\n",
       "    <tr>\n",
       "      <th>440743</th>\n",
       "      <td>Q971</td>\n",
       "      <td>Republic of the Congo</td>\n",
       "      <td>ኮንጎ ሪፐብሊክ</td>\n",
       "      <td>am</td>\n",
       "      <td>LOC</td>\n",
       "      <td>Amharic</td>\n",
       "    </tr>\n",
       "    <tr>\n",
       "      <th>625238</th>\n",
       "      <td>Q5816</td>\n",
       "      <td>Mao Zedong</td>\n",
       "      <td>ማው ፀ-ቶንግ</td>\n",
       "      <td>am</td>\n",
       "      <td>PER</td>\n",
       "      <td>Amharic</td>\n",
       "    </tr>\n",
       "  </tbody>\n",
       "</table>\n",
       "</div>"
      ],
      "text/plain": [
       "                 id                        name               alias language  \\\n",
       "497790      Q151148               Chola dynasty       የቾላ ሥርወ መንግሥት       am   \n",
       "497757    Q13143690                   Q13143690      ሞያሌ፣ ኦሮሚያ(ወረዳ)       am   \n",
       "467263   Q104452144            Claudia Marietta    Claudia Marietta       am   \n",
       "627261      Q191719             Zooey Deschanel             ዞዊ ዴሸኔል       am   \n",
       "325532      Q809658            Le Nain Brothers          ለ ኔን ወንድሞች       am   \n",
       "1227404   Q20607139                Tamrat Molla             ታምራት ሞላ       am   \n",
       "1227458     Q536201               Eriba-Adad II           2 ኤሪባ-አዳድ       am   \n",
       "497520    Q20629906                   Q20629906             ዶዶታና ሲሬ       am   \n",
       "141886       Q35775                       Boise                 ቦይዚ       am   \n",
       "102219         Q956                     Beijing               ቤዪጂንግ       am   \n",
       "265002        Q4127              Lake Constance          ኮንስታንጽ ሃይቅ       am   \n",
       "1227653     Q887197                    Renseneb               ረንሰነብ       am   \n",
       "497099      Q503705                  Baierbrunn              ባየርብሩን       am   \n",
       "497647    Q20626766                   Q20626766              አዳ ጩቃላ       am   \n",
       "497211     Q1110037                       Agaro                 አጋሮ       am   \n",
       "1227394   Q13143504                   Q13143504             መላኩ ተፈራ       am   \n",
       "497862     Q4783883                Magech River                 መገጭ       am   \n",
       "439458        Q1028                     Morocco                 ሞሮኮ       am   \n",
       "60835         Q1006                      Guinea                  ጊኔ       am   \n",
       "213996        Q1729                      Erfurt               ኤርፉርት       am   \n",
       "20455      Q6107023                   Feminaria           Feminaria       am   \n",
       "60687         Q2141                     Halifax               ሃሊፋክስ       am   \n",
       "774035        Q1425                      Trajan              Trajan       am   \n",
       "1228221    Q1195050                  Zhong Kang             ዦንግ ካንግ       am   \n",
       "1227466     Q370229                   Huzziya I               1 ሑዚያ       am   \n",
       "131690      Q270734                 Broken Hill             ብሮክን ሂል       am   \n",
       "1227237    Q5118345          Chushan-Rishathaim              ኲሰርሰቴም       am   \n",
       "325647    Q30266446           Asossa University          አሶሳ ዩኒቨርሲቲ       am   \n",
       "1228268   Q13146248                   Q13146248                ዶንገም       am   \n",
       "381087       Q25282                     Da Nang               ዳ ናንግ       am   \n",
       "49697      Q1130849              Liverpool F.C.   ሊቨርፑል የእግር ኳስ ክለብ       am   \n",
       "72258          Q994                     Tbilisi                ትብሊሲ       am   \n",
       "924751       Q30487           Mikhail Gorbachev          ምኻይል ጎርባቾቭ       am   \n",
       "325882     Q2393569   Harrar Beer Bottling F.C.  ሐረር ቢራ የእግር ኳስ ክለብ       am   \n",
       "699375        Q8620               Kwame Nkrumah           ክዋሜ ንክሩማህ       am   \n",
       "1082614     Q296439               Mentuhotep II            2 መንቱሆተፕ       am   \n",
       "103155        Q1033                     Nigeria               ናይጄሪያ       am   \n",
       "1227084   Q20630001                Yemane Abadi             የማነ አባዲ       am   \n",
       "854339      Q216341              Connie Francis            ኮኒ ፍራንሲስ       am   \n",
       "1227015     Q888280             Sewadjkare Hori               ሰዋጅካሬ       am   \n",
       "1228054     Q298221                Kathy Reichs             ካቲ ራይክስ       am   \n",
       "497143     Q3325049              Mota, Ethiopia                  ሞጣ       am   \n",
       "198405       Q41057                      Topeka                 ቶፒካ       am   \n",
       "379755         Q223                   Greenland              ግሪንላንድ       am   \n",
       "18286         Q5836                      Toledo                 ቶሌዶ       am   \n",
       "1227444     Q215778  Marie François Sadi Carnot              ሳዲ ካርኖ       am   \n",
       "1228140     Q316221            Ashur-uballit II          2 አሹር-ኡባሊት       am   \n",
       "214349         Q340                    Montreal              ሞንትሬያል       am   \n",
       "440743         Q971       Republic of the Congo           ኮንጎ ሪፐብሊክ       am   \n",
       "625238        Q5816                  Mao Zedong            ማው ፀ-ቶንግ       am   \n",
       "\n",
       "        type full_language  \n",
       "497790   LOC       Amharic  \n",
       "497757   LOC       Amharic  \n",
       "467263   PER       Amharic  \n",
       "627261   PER       Amharic  \n",
       "325532   ORG       Amharic  \n",
       "1227404  PER       Amharic  \n",
       "1227458  PER       Amharic  \n",
       "497520   LOC       Amharic  \n",
       "141886   ORG       Amharic  \n",
       "102219   ORG       Amharic  \n",
       "265002   LOC       Amharic  \n",
       "1227653  PER       Amharic  \n",
       "497099   LOC       Amharic  \n",
       "497647   LOC       Amharic  \n",
       "497211   LOC       Amharic  \n",
       "1227394  PER       Amharic  \n",
       "497862   LOC       Amharic  \n",
       "439458   LOC       Amharic  \n",
       "60835    ORG       Amharic  \n",
       "213996   ORG       Amharic  \n",
       "20455    ORG       Amharic  \n",
       "60687    ORG       Amharic  \n",
       "774035   PER       Amharic  \n",
       "1228221  PER       Amharic  \n",
       "1227466  PER       Amharic  \n",
       "131690   LOC       Amharic  \n",
       "1227237  PER       Amharic  \n",
       "325647   ORG       Amharic  \n",
       "1228268  PER       Amharic  \n",
       "381087   LOC       Amharic  \n",
       "49697    ORG       Amharic  \n",
       "72258    LOC       Amharic  \n",
       "924751   PER       Amharic  \n",
       "325882   ORG       Amharic  \n",
       "699375   PER       Amharic  \n",
       "1082614  PER       Amharic  \n",
       "103155   ORG       Amharic  \n",
       "1227084  PER       Amharic  \n",
       "854339   PER       Amharic  \n",
       "1227015  PER       Amharic  \n",
       "1228054  PER       Amharic  \n",
       "497143   LOC       Amharic  \n",
       "198405   LOC       Amharic  \n",
       "379755   LOC       Amharic  \n",
       "18286    LOC       Amharic  \n",
       "1227444  PER       Amharic  \n",
       "1228140  PER       Amharic  \n",
       "214349   ORG       Amharic  \n",
       "440743   LOC       Amharic  \n",
       "625238   PER       Amharic  "
      ]
     },
     "execution_count": 58,
     "metadata": {},
     "output_type": "execute_result"
    }
   ],
   "source": [
    "amharic.sample(50)"
   ]
  },
  {
   "cell_type": "markdown",
   "metadata": {},
   "source": [
    "### total number of languages in dump"
   ]
  },
  {
   "cell_type": "code",
   "execution_count": 144,
   "metadata": {},
   "outputs": [
    {
     "data": {
      "text/plain": [
       "(413516,)"
      ]
     },
     "execution_count": 144,
     "metadata": {},
     "output_type": "execute_result"
    }
   ],
   "source": [
    "dump.id.unique().shape"
   ]
  },
  {
   "cell_type": "code",
   "execution_count": 145,
   "metadata": {},
   "outputs": [
    {
     "data": {
      "text/plain": [
       "(414659,)"
      ]
     },
     "execution_count": 145,
     "metadata": {},
     "output_type": "execute_result"
    }
   ],
   "source": [
    "dump.alias.unique().shape"
   ]
  },
  {
   "cell_type": "code",
   "execution_count": 147,
   "metadata": {},
   "outputs": [
    {
     "data": {
      "text/plain": [
       "(28,)"
      ]
     },
     "execution_count": 147,
     "metadata": {},
     "output_type": "execute_result"
    }
   ],
   "source": [
    "dump.language.unique().shape"
   ]
  },
  {
   "cell_type": "code",
   "execution_count": 151,
   "metadata": {},
   "outputs": [
    {
     "data": {
      "text/plain": [
       "(0.944, 6.5]    341067\n",
       "(6.5, 12.0]      45677\n",
       "(23.0, 28.5]     23404\n",
       "(17.5, 23.0]      2699\n",
       "(12.0, 17.5]       444\n",
       "(39.5, 45.0]        71\n",
       "(45.0, 50.5]        59\n",
       "(28.5, 34.0]        45\n",
       "(34.0, 39.5]        38\n",
       "(50.5, 56.0]        12\n",
       "Name: alias, dtype: int64"
      ]
     },
     "execution_count": 151,
     "metadata": {},
     "output_type": "execute_result"
    }
   ],
   "source": [
    "dump.groupby('id').alias.count().value_counts(bins=10)"
   ]
  },
  {
   "cell_type": "code",
   "execution_count": 152,
   "metadata": {},
   "outputs": [
    {
     "data": {
      "text/plain": [
       "(2181831, 6)"
      ]
     },
     "execution_count": 152,
     "metadata": {},
     "output_type": "execute_result"
    }
   ],
   "source": [
    "dump.shape"
   ]
  },
  {
   "cell_type": "code",
   "execution_count": 154,
   "metadata": {},
   "outputs": [
    {
     "data": {
      "text/plain": [
       "2181831"
      ]
     },
     "execution_count": 154,
     "metadata": {},
     "output_type": "execute_result"
    }
   ],
   "source": [
    "big_table.Total.sum()"
   ]
  },
  {
   "cell_type": "code",
   "execution_count": null,
   "metadata": {},
   "outputs": [],
   "source": []
  }
 ],
 "metadata": {
  "kernelspec": {
   "display_name": "Python 3",
   "language": "python",
   "name": "python3"
  },
  "language_info": {
   "codemirror_mode": {
    "name": "ipython",
    "version": 3
   },
   "file_extension": ".py",
   "mimetype": "text/x-python",
   "name": "python",
   "nbconvert_exporter": "python",
   "pygments_lexer": "ipython3",
   "version": "3.7.7"
  }
 },
 "nbformat": 4,
 "nbformat_minor": 4
}
